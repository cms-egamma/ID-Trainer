{
 "cells": [
  {
   "cell_type": "code",
   "execution_count": 1,
   "id": "leading-cattle",
   "metadata": {},
   "outputs": [
    {
     "name": "stderr",
     "output_type": "stream",
     "text": [
      "/home/akapoor/miniconda3/envs/forEGammaSFs/lib/python3.6/site-packages/tensorflow/python/framework/dtypes.py:516: FutureWarning: Passing (type, 1) or '1type' as a synonym of type is deprecated; in a future version of numpy, it will be understood as (type, (1,)) / '(1,)type'.\n",
      "  _np_qint8 = np.dtype([(\"qint8\", np.int8, 1)])\n",
      "/home/akapoor/miniconda3/envs/forEGammaSFs/lib/python3.6/site-packages/tensorflow/python/framework/dtypes.py:517: FutureWarning: Passing (type, 1) or '1type' as a synonym of type is deprecated; in a future version of numpy, it will be understood as (type, (1,)) / '(1,)type'.\n",
      "  _np_quint8 = np.dtype([(\"quint8\", np.uint8, 1)])\n",
      "/home/akapoor/miniconda3/envs/forEGammaSFs/lib/python3.6/site-packages/tensorflow/python/framework/dtypes.py:518: FutureWarning: Passing (type, 1) or '1type' as a synonym of type is deprecated; in a future version of numpy, it will be understood as (type, (1,)) / '(1,)type'.\n",
      "  _np_qint16 = np.dtype([(\"qint16\", np.int16, 1)])\n",
      "/home/akapoor/miniconda3/envs/forEGammaSFs/lib/python3.6/site-packages/tensorflow/python/framework/dtypes.py:519: FutureWarning: Passing (type, 1) or '1type' as a synonym of type is deprecated; in a future version of numpy, it will be understood as (type, (1,)) / '(1,)type'.\n",
      "  _np_quint16 = np.dtype([(\"quint16\", np.uint16, 1)])\n",
      "/home/akapoor/miniconda3/envs/forEGammaSFs/lib/python3.6/site-packages/tensorflow/python/framework/dtypes.py:520: FutureWarning: Passing (type, 1) or '1type' as a synonym of type is deprecated; in a future version of numpy, it will be understood as (type, (1,)) / '(1,)type'.\n",
      "  _np_qint32 = np.dtype([(\"qint32\", np.int32, 1)])\n",
      "/home/akapoor/miniconda3/envs/forEGammaSFs/lib/python3.6/site-packages/tensorflow/python/framework/dtypes.py:525: FutureWarning: Passing (type, 1) or '1type' as a synonym of type is deprecated; in a future version of numpy, it will be understood as (type, (1,)) / '(1,)type'.\n",
      "  np_resource = np.dtype([(\"resource\", np.ubyte, 1)])\n"
     ]
    },
    {
     "name": "stdout",
     "output_type": "stream",
     "text": [
      "{'IPKernelApp': {'connection_file': '/home/akapoor/.local/share/jupyter/runtime/kernel-c416f829-2944-464b-8e6d-3c6d27794b34.json'}}\n",
      "In IPython\n"
     ]
    },
    {
     "name": "stderr",
     "output_type": "stream",
     "text": [
      "/home/akapoor/miniconda3/envs/forEGammaSFs/lib/python3.6/site-packages/tensorboard/compat/tensorflow_stub/dtypes.py:541: FutureWarning: Passing (type, 1) or '1type' as a synonym of type is deprecated; in a future version of numpy, it will be understood as (type, (1,)) / '(1,)type'.\n",
      "  _np_qint8 = np.dtype([(\"qint8\", np.int8, 1)])\n",
      "/home/akapoor/miniconda3/envs/forEGammaSFs/lib/python3.6/site-packages/tensorboard/compat/tensorflow_stub/dtypes.py:542: FutureWarning: Passing (type, 1) or '1type' as a synonym of type is deprecated; in a future version of numpy, it will be understood as (type, (1,)) / '(1,)type'.\n",
      "  _np_quint8 = np.dtype([(\"quint8\", np.uint8, 1)])\n",
      "/home/akapoor/miniconda3/envs/forEGammaSFs/lib/python3.6/site-packages/tensorboard/compat/tensorflow_stub/dtypes.py:543: FutureWarning: Passing (type, 1) or '1type' as a synonym of type is deprecated; in a future version of numpy, it will be understood as (type, (1,)) / '(1,)type'.\n",
      "  _np_qint16 = np.dtype([(\"qint16\", np.int16, 1)])\n",
      "/home/akapoor/miniconda3/envs/forEGammaSFs/lib/python3.6/site-packages/tensorboard/compat/tensorflow_stub/dtypes.py:544: FutureWarning: Passing (type, 1) or '1type' as a synonym of type is deprecated; in a future version of numpy, it will be understood as (type, (1,)) / '(1,)type'.\n",
      "  _np_quint16 = np.dtype([(\"quint16\", np.uint16, 1)])\n",
      "/home/akapoor/miniconda3/envs/forEGammaSFs/lib/python3.6/site-packages/tensorboard/compat/tensorflow_stub/dtypes.py:545: FutureWarning: Passing (type, 1) or '1type' as a synonym of type is deprecated; in a future version of numpy, it will be understood as (type, (1,)) / '(1,)type'.\n",
      "  _np_qint32 = np.dtype([(\"qint32\", np.int32, 1)])\n",
      "/home/akapoor/miniconda3/envs/forEGammaSFs/lib/python3.6/site-packages/tensorboard/compat/tensorflow_stub/dtypes.py:550: FutureWarning: Passing (type, 1) or '1type' as a synonym of type is deprecated; in a future version of numpy, it will be understood as (type, (1,)) / '(1,)type'.\n",
      "  np_resource = np.dtype([(\"resource\", np.ubyte, 1)])\n"
     ]
    }
   ],
   "source": [
    "import sys\n",
    "import tensorflow as tf\n",
    "import random\n",
    "import numpy as np\n",
    "tf.reset_default_graph()\n",
    "\n",
    "def in_ipynb():\n",
    "    try:\n",
    "        cfg = get_ipython().config\n",
    "        print(cfg)\n",
    "        if 'jupyter' in cfg['IPKernelApp']['connection_file']:\n",
    "            return True\n",
    "        else:\n",
    "            return False\n",
    "    except NameError:\n",
    "        return False\n",
    "    \n",
    "if in_ipynb(): \n",
    "    print(\"In IPython\")\n",
    "    exec(\"import Tools.NanoAODConfig as Conf\")\n",
    "    TrainConfig=\"Tools/NanoAODConfig\"\n",
    "else:\n",
    "    TrainConfig=sys.argv[1]\n",
    "    print(\"Importing settings from \"+ TrainConfig.replace(\"/\", \".\"))\n",
    "    #exec(\"from \"+TrainConfig+\" import *\")\n",
    "    importConfig=TrainConfig.replace(\"/\", \".\")\n",
    "    exec(\"import \"+importConfig+\" as Conf\")\n",
    "    "
   ]
  },
  {
   "cell_type": "code",
   "execution_count": 2,
   "id": "narrative-allergy",
   "metadata": {},
   "outputs": [],
   "source": [
    "if not hasattr(Conf, 'MVAlogplot'): Conf.MVAlogplot=False \n",
    "if not hasattr(Conf, 'Multicore'): Conf.Multicore=False \n",
    "if not hasattr(Conf, 'RandomState'): Conf.RandomState=42"
   ]
  },
  {
   "cell_type": "code",
   "execution_count": 3,
   "id": "british-coach",
   "metadata": {},
   "outputs": [
    {
     "ename": "ModuleNotFoundError",
     "evalue": "No module named 'uproot'",
     "output_type": "error",
     "traceback": [
      "\u001b[0;31m---------------------------------------------------------------------------\u001b[0m",
      "\u001b[0;31mModuleNotFoundError\u001b[0m                       Traceback (most recent call last)",
      "\u001b[0;32m<ipython-input-3-2d3e64ad08cd>\u001b[0m in \u001b[0;36m<module>\u001b[0;34m\u001b[0m\n\u001b[1;32m      5\u001b[0m \u001b[0;32mimport\u001b[0m \u001b[0mos\u001b[0m\u001b[0;34m\u001b[0m\u001b[0;34m\u001b[0m\u001b[0m\n\u001b[1;32m      6\u001b[0m \u001b[0mos\u001b[0m\u001b[0;34m.\u001b[0m\u001b[0msystem\u001b[0m\u001b[0;34m(\u001b[0m\u001b[0;34m\"\"\u001b[0m\u001b[0;34m)\u001b[0m\u001b[0;34m\u001b[0m\u001b[0;34m\u001b[0m\u001b[0m\n\u001b[0;32m----> 7\u001b[0;31m \u001b[0;32mimport\u001b[0m \u001b[0muproot\u001b[0m\u001b[0;34m\u001b[0m\u001b[0;34m\u001b[0m\u001b[0m\n\u001b[0m\u001b[1;32m      8\u001b[0m \u001b[0;32mimport\u001b[0m \u001b[0mglob\u001b[0m\u001b[0;34m\u001b[0m\u001b[0;34m\u001b[0m\u001b[0m\n\u001b[1;32m      9\u001b[0m \u001b[0;32mimport\u001b[0m \u001b[0mpandas\u001b[0m \u001b[0;32mas\u001b[0m \u001b[0mpd\u001b[0m\u001b[0;34m\u001b[0m\u001b[0;34m\u001b[0m\u001b[0m\n",
      "\u001b[0;31mModuleNotFoundError\u001b[0m: No module named 'uproot'"
     ]
    }
   ],
   "source": [
    "tf.compat.v1.random.set_random_seed(Conf.RandomState)\n",
    "random.seed(Conf.RandomState)\n",
    "np.random.seed(Conf.RandomState)\n",
    "\n",
    "import os\n",
    "os.system(\"\")\n",
    "import uproot\n",
    "import glob\n",
    "import pandas as pd\n",
    "import numpy as np\n",
    "import ROOT\n",
    "import matplotlib.pyplot as plt\n",
    "import json\n",
    "\n",
    "from tensorflow.keras.models import Sequential\n",
    "from tensorflow.keras.layers import Dense, Activation\n",
    "from tensorflow.keras.optimizers import Adam\n",
    "from tensorflow.keras.layers import Dropout"
   ]
  },
  {
   "cell_type": "code",
   "execution_count": null,
   "id": "elegant-processing",
   "metadata": {},
   "outputs": [],
   "source": [
    "from Tools.PlotTools import *\n",
    "import Tools.ptetaRwt as ptetaRwt"
   ]
  },
  {
   "cell_type": "code",
   "execution_count": null,
   "id": "hydraulic-recipient",
   "metadata": {},
   "outputs": [],
   "source": []
  },
  {
   "cell_type": "code",
   "execution_count": null,
   "id": "electronic-return",
   "metadata": {},
   "outputs": [],
   "source": []
  },
  {
   "cell_type": "code",
   "execution_count": null,
   "id": "outstanding-pleasure",
   "metadata": {},
   "outputs": [],
   "source": [
    "if Conf.Debug==True:\n",
    "    prGreen(\"Running in debug mode : Only every 10th event will be used\")"
   ]
  },
  {
   "cell_type": "code",
   "execution_count": null,
   "id": "perfect-communication",
   "metadata": {},
   "outputs": [],
   "source": [
    "if len(Conf.MVAs)>0:\n",
    "    for MVAd in Conf.MVAs:\n",
    "        os.system(\"mkdir -p \" + Conf.OutputDirName+\"/\"+MVAd)\n",
    "prGreen(\"Making output directory\")\n",
    "os.system(\"mkdir -p \" + Conf.OutputDirName)\n",
    "os.system(\"mkdir -p \" + Conf.OutputDirName+\"/CodeANDConfig\")\n",
    "os.system(\"mkdir -p \" + Conf.OutputDirName+\"/Thresholds\")\n",
    "os.system(\"cp \"+TrainConfig+\".py ./\"+ Conf.OutputDirName+\"/CodeANDConfig/\")\n",
    "os.system(\"cp Trainer.py ./\"+ Conf.OutputDirName+\"/CodeANDConfig/\")"
   ]
  },
  {
   "cell_type": "code",
   "execution_count": null,
   "id": "fluid-poker",
   "metadata": {},
   "outputs": [],
   "source": [
    "cat='EleType'\n",
    "weight=\"NewWt\"\n",
    "label=[\"Background\",\"Signal\"]"
   ]
  },
  {
   "cell_type": "code",
   "execution_count": null,
   "id": "dated-regular",
   "metadata": {},
   "outputs": [],
   "source": [
    "#Works in uproot3\n",
    "prGreen(\"Making data frames\")\n",
    "Sigdf=pd.DataFrame()\n",
    "Bkgdf=pd.DataFrame()\n",
    "\n",
    "for SigFile,SigXsecWt,SigCut in zip(Conf.SigFiles,Conf.SigXsecWts,Conf.SigCuts):\n",
    "    if Conf.Debug==True:\n",
    "        Sigdfi = uproot.open(SigFile).get(Conf.Tree).pandas.df(branches=Conf.branches,flatten=True).query(SigCut+' & '+Conf.CommonCut).iloc[::10]\n",
    "    else:\n",
    "        Sigdfi = uproot.open(SigFile).get(Conf.Tree).pandas.df(branches=Conf.branches,flatten=True).query(SigCut+' & '+Conf.CommonCut)\n",
    "    Sigdfi['xsecwt']=SigXsecWt\n",
    "    Sigdf=pd.concat([Sigdf,Sigdfi],ignore_index=True, sort=False)\n",
    "for BkgFile,BkgXsecWt,BkgCut in zip(Conf.BkgFiles,Conf.BkgXsecWts,Conf.BkgCuts):\n",
    "    if Conf.Debug==True:\n",
    "        Bkgdfi = uproot.open(BkgFile).get(Conf.Tree).pandas.df(branches=Conf.branches,flatten=True).query(BkgCut+' & '+Conf.CommonCut).iloc[::10]\n",
    "    else:\n",
    "        Bkgdfi = uproot.open(BkgFile).get(Conf.Tree).pandas.df(branches=Conf.branches,flatten=True).query(BkgCut+' & '+Conf.CommonCut)\n",
    "    Bkgdfi['xsecwt']=BkgXsecWt\n",
    "    Bkgdf=pd.concat([Bkgdf,Bkgdfi],ignore_index=True, sort=False)\n",
    "    \n"
   ]
  },
  {
   "cell_type": "code",
   "execution_count": null,
   "id": "communist-destination",
   "metadata": {},
   "outputs": [],
   "source": [
    "Sigdf[cat]=1\n",
    "Bkgdf[cat]=0\n",
    "\n",
    "Conf.modfiydf(Sigdf)\n",
    "Conf.modfiydf(Bkgdf)"
   ]
  },
  {
   "cell_type": "code",
   "execution_count": null,
   "id": "protected-jumping",
   "metadata": {},
   "outputs": [],
   "source": [
    "Bkgdf.head()"
   ]
  },
  {
   "cell_type": "code",
   "execution_count": null,
   "id": "remarkable-guidance",
   "metadata": {},
   "outputs": [],
   "source": [
    "Sigdf[\"Type\"]=\"Signal\"\n",
    "Bkgdf[\"Type\"]=\"Background\"\n",
    "\n",
    "if Conf.Reweighing=='Nothing':\n",
    "    Sigdf[weight]=Sigdf['xsecwt']\n",
    "    Bkgdf[weight]=Bkgdf['xsecwt']\n",
    "if Conf.Reweighing=='ptetaSig':\n",
    "    Sigdf[weight],Bkgdf[weight]=ptetaRwt.ptetaRwtTested(Sigdf.copy(),Bkgdf.copy(),Conf.ptbins,Conf.etabins,'xsecwt',weight,ele_pt=Conf.ptwtvar,scl_eta=Conf.etawtvar,od=Conf.OutputDirName)\n",
    "if Conf.Reweighing=='ptetaBkg':\n",
    "    Bkgdf[weight],Sigdf[weight]=ptetaRwt.ptetaRwtTested(Bkgdf.copy(),Sigdf.copy(),Conf.ptbins,Conf.etabins,'xsecwt',weight,ele_pt=Conf.ptwtvar,scl_eta=Conf.etawtvar,od=Conf.OutputDirName)\n",
    "\n",
    "df_final=pd.concat([Sigdf,Bkgdf],ignore_index=True, sort=False)\n",
    "from sklearn.model_selection import train_test_split\n",
    "TrainIndices, TestIndices = train_test_split(df_final.index.values.tolist(), test_size=Conf.testsize, random_state=Conf.RandomState, shuffle=True)\n",
    "\n",
    "df_final.loc[TrainIndices,'Dataset'] = \"Train\"\n",
    "df_final.loc[TestIndices,'Dataset'] = \"Test\"\n",
    "\n",
    "df_final.loc[TrainIndices,'TrainDataset'] = 1\n",
    "df_final.loc[TestIndices,'TrainDataset'] = 0\n",
    "\n",
    "#df_final[\"NewWt\"]=1"
   ]
  },
  {
   "cell_type": "code",
   "execution_count": null,
   "id": "oriental-avenue",
   "metadata": {},
   "outputs": [],
   "source": [
    "import seaborn as sns\n",
    "fig, axes = plt.subplots(1, 1, figsize=(10, 5))\n",
    "sns.countplot(x=\"Type\", data=df_final, ax=axes,hue='Dataset',palette=['#432371',\"#FAAE7B\"])\n",
    "axes.set_title(\"Number of samples\")\n",
    "#axes.set_yscale(\"log\")\n",
    "plt.savefig(Conf.OutputDirName+\"/TotalStat_TrainANDTest.pdf\")\n",
    "plt.savefig(Conf.OutputDirName+\"/TotalStat_TrainANDTest.png\")\n",
    "    "
   ]
  },
  {
   "cell_type": "code",
   "execution_count": null,
   "id": "separate-persian",
   "metadata": {},
   "outputs": [],
   "source": [
    "def PrepDataset(df_final,TrainIndices,TestIndices,features,cat,weight):\n",
    "    X_train = df_final.loc[TrainIndices,features]\n",
    "    Y_train = df_final.loc[TrainIndices,cat]\n",
    "    Wt_train = df_final.loc[TrainIndices,weight]\n",
    "    \n",
    "    X_test = df_final.loc[TestIndices,features]\n",
    "    Y_test = df_final.loc[TestIndices,cat]\n",
    "    Wt_test = df_final.loc[TestIndices,weight]\n",
    "    return np.asarray(X_train), np.asarray(Y_train), np.asarray(Wt_train), np.asarray(X_test), np.asarray(Y_test), np.asarray(Wt_test)"
   ]
  },
  {
   "cell_type": "code",
   "execution_count": null,
   "id": "usual-transmission",
   "metadata": {},
   "outputs": [],
   "source": [
    "import pickle\n",
    "import multiprocessing\n",
    "for MVA in Conf.MVAs:\n",
    "    \n",
    "    if 'XGB' in MVA:\n",
    "        MakeFeaturePlots(df_final,Conf.features[MVA],Conf.feature_bins[MVA],Set=\"Train\",MVA=MVA,OutputDirName=Conf.OutputDirName)\n",
    "        MakeFeaturePlots(df_final,Conf.features[MVA],Conf.feature_bins[MVA],Set=\"Test\",MVA=MVA,OutputDirName=Conf.OutputDirName)\n",
    "        MakeFeaturePlotsComb(df_final,Conf.features[MVA],Conf.feature_bins[MVA],MVA=MVA,OutputDirName=Conf.OutputDirName)\n",
    "        X_train, Y_train, Wt_train, X_test, Y_test, Wt_test = PrepDataset(df_final,TrainIndices,TestIndices,Conf.features[MVA],cat,weight)\n",
    "        prGreen(MVA+\" Applying \"+Conf.Scaler[MVA])\n",
    "        exec(\"from sklearn.preprocessing import \"+Conf.Scaler[MVA])\n",
    "        exec(\"sc = \"+Conf.Scaler[MVA]+\"()\")\n",
    "        X_train = sc.fit_transform(X_train)\n",
    "        X_test = sc.transform(X_test)\n",
    "        prGreen(MVA+\" Training starting\")\n",
    "        import xgboost as xgb\n",
    "        from sklearn.model_selection import cross_val_score, GridSearchCV\n",
    "        xgb_model = xgb.XGBClassifier(objective=\"binary:logistic\", random_state=Conf.RandomState)\n",
    "        #xgb_model.set_config(verbosity=2)\n",
    "        prGreen(\"Performing XGB grid search\")\n",
    "        if Conf.Multicore:\n",
    "            cv = GridSearchCV(xgb_model, Conf.XGBGridSearch[MVA],\n",
    "                              scoring='neg_log_loss',cv=3,verbose=1,n_jobs=2)#multiprocessing.cpu_count())\n",
    "        else:\n",
    "            cv = GridSearchCV(xgb_model, Conf.XGBGridSearch[MVA],\n",
    "                              scoring='neg_log_loss',cv=3,verbose=1)\n",
    "        search=cv.fit(X_train, Y_train, sample_weight=Wt_train,verbose=1)\n",
    "        pickle.dump(cv, open(Conf.OutputDirName+\"/\"+MVA+\"/\"+MVA+\"_\"+\"modelXGB.pkl\", \"wb\"))\n",
    "        #modelDNN.save(Conf.OutputDirName+\"/\"+MVA+\"_\"+\"modelDNN.h5\")\n",
    "        prGreen(\"Expected neg log loss of XGB model = \"+str((np.round(np.average(search.best_score_),3))*100)+'%')\n",
    "        #prGreen(\"Expected accuracy of XGB model = \"+str((np.average(search.best_score_))*100)+'%')\n",
    "        prGreen(\"XGB Best Parameters\")\n",
    "    \n",
    "        #json.dumps(search.best_params_)\n",
    "        prGreen(str(search.best_params_))\n",
    "    \n",
    "        df_final.loc[TrainIndices,MVA+\"_pred\"]=cv.predict_proba(X_train)[:,1]\n",
    "        df_final.loc[TestIndices,MVA+\"_pred\"]=cv.predict_proba(X_test)[:,1]\n",
    "    \n",
    "        prGreen(\"Plotting output response for XGB\")\n",
    "        fig, axes = plt.subplots(1, 1, figsize=(5, 5))\n",
    "        plot_mva(df_final.query('TrainDataset==1'),MVA+\"_pred\",bins=50,cat=cat,Wt=weight,ax=axes,sample='train',ls='dashed',logscale=Conf.MVAlogplot)\n",
    "        plot_mva(df_final.query('TrainDataset==0'),MVA+\"_pred\",bins=50,cat=cat,Wt=weight,ax=axes,sample='test',ls='dotted',logscale=Conf.MVAlogplot)\n",
    "        plt.savefig(Conf.OutputDirName+\"/\"+MVA+\"/\"+MVA+\"_\"+\"XGBMVA.pdf\")\n",
    "        plt.savefig(Conf.OutputDirName+\"/\"+MVA+\"/\"+MVA+\"_\"+\"XGBMVA.png\")\n",
    "    \n",
    "        prGreen(\"Plotting ROC for XGB\")\n",
    "        fig, axes = plt.subplots(1, 1, figsize=(5, 5))\n",
    "        plot_roc_curve(df_final.query('TrainDataset==1'),MVA+\"_pred\", tpr_threshold=0, ax=axes, color=None, linestyle='-', label=Conf.MVALabels[MVA]+' Training',cat=cat,Wt=weight)\n",
    "        plot_roc_curve(df_final.query('TrainDataset==0'),MVA+\"_pred\", tpr_threshold=0, ax=axes, color=None, linestyle='--', label=Conf.MVALabels[MVA]+' Testing',cat=cat,Wt=weight)\n",
    "        if len(Conf.OverlayWP)>0:\n",
    "            for color,OverlayWpi in zip(Conf.OverlayWPColors,Conf.OverlayWP):\n",
    "                plot_single_roc_point(df_final.query('TrainDataset==0'), var=OverlayWpi, ax=axes, color=color, marker='o', markersize=6, label=OverlayWpi+\" Test dataset\", cat=cat,Wt=weight)\n",
    "        axes.set_ylabel(\"Background efficiency\")\n",
    "        axes.set_xlabel(\"Signal efficiency\")\n",
    "        axes.set_title(\"XGB\")\n",
    "        axes.text(1.05, 0.5, 'CMS EGamma ID-Trainer',\n",
    "            horizontalalignment='center',\n",
    "            verticalalignment='center',\n",
    "            rotation='vertical',\n",
    "            transform=axes.transAxes)\n",
    "        plt.savefig(Conf.OutputDirName+\"/\"+MVA+\"/\"+MVA+\"_\"+\"XGBROC.pdf\")\n",
    "        plt.savefig(Conf.OutputDirName+\"/\"+MVA+\"/\"+MVA+\"_\"+\"XGBROC.png\")"
   ]
  },
  {
   "cell_type": "code",
   "execution_count": null,
   "id": "eleven-ethiopia",
   "metadata": {},
   "outputs": [],
   "source": [
    "from tensorflow.keras.callbacks import EarlyStopping\n",
    "for MVA in Conf.MVAs:\n",
    "    if 'DNN' in MVA:\n",
    "        MakeFeaturePlots(df_final,Conf.features[MVA],Conf.feature_bins[MVA],Set=\"Train\",MVA=MVA,OutputDirName=Conf.OutputDirName)\n",
    "        MakeFeaturePlots(df_final,Conf.features[MVA],Conf.feature_bins[MVA],Set=\"Test\",MVA=MVA,OutputDirName=Conf.OutputDirName)\n",
    "        MakeFeaturePlotsComb(df_final,Conf.features[MVA],Conf.feature_bins[MVA],MVA=MVA,OutputDirName=Conf.OutputDirName)\n",
    "        X_train, Y_train, Wt_train, X_test, Y_test, Wt_test = PrepDataset(df_final,TrainIndices,TestIndices,Conf.features[MVA],cat,weight)\n",
    "        prGreen(MVA+\" Applying \"+Conf.Scaler[MVA])\n",
    "        exec(\"from sklearn.preprocessing import \"+Conf.Scaler[MVA])\n",
    "        exec(\"sc = \"+Conf.Scaler[MVA]+\"()\")\n",
    "        X_train = sc.fit_transform(X_train)\n",
    "        X_test = sc.transform(X_test)\n",
    "        prGreen(\"DNN fitting running\")\n",
    "        es = EarlyStopping(monitor='val_loss', mode='min', verbose=1, patience=10)\n",
    "        modelDNN=Conf.DNNDict[MVA]['model']\n",
    "        modelDNN.compile(loss='binary_crossentropy', optimizer=Adam(lr=Conf.DNNDict[MVA]['lr']), metrics=['accuracy',])\n",
    "        train_history = modelDNN.fit(X_train,Y_train,epochs=Conf.DNNDict[MVA]['epochs'],batch_size=Conf.DNNDict[MVA]['batchsize'],validation_data=(X_test,Y_test, Wt_test),\n",
    "                                     verbose=1,callbacks=[es], sample_weight=Wt_train)\n",
    "        modelDNN.save(Conf.OutputDirName+\"/\"+MVA+\"/\"+MVA+\"_\"+\"modelDNN.h5\")\n",
    "        df_final.loc[TrainIndices,MVA+\"_pred\"]=modelDNN.predict(X_train)\n",
    "        df_final.loc[TestIndices,MVA+\"_pred\"]=modelDNN.predict(X_test)\n",
    "    \n",
    "        prGreen(\"Plotting output response for DNN\")\n",
    "        fig, axes = plt.subplots(1, 1, figsize=(5, 5))\n",
    "        plot_mva(df_final.query('TrainDataset==1'),MVA+\"_pred\",bins=50,cat=cat,Wt=weight,ax=axes,sample='train',ls='dashed',logscale=Conf.MVAlogplot)\n",
    "        plot_mva(df_final.query('TrainDataset==0'),MVA+\"_pred\",bins=50,cat=cat,Wt=weight,ax=axes,sample='test',ls='dotted',logscale=Conf.MVAlogplot)\n",
    "        plt.savefig(Conf.OutputDirName+\"/\"+MVA+\"/\"+MVA+\"_\"+\"DNNMVA.pdf\")\n",
    "        plt.savefig(Conf.OutputDirName+\"/\"+MVA+\"/\"+MVA+\"_\"+\"DNNMVA.png\")\n",
    "    \n",
    "        prGreen(\"Plotting ROC for DNN\")\n",
    "        fig, axes = plt.subplots(1, 1, figsize=(5, 5))\n",
    "        plot_roc_curve(df_final.query('TrainDataset==1'),MVA+\"_pred\", tpr_threshold=0, ax=axes, color=None, linestyle='-', label=Conf.MVALabels[MVA]+' Training',cat=cat,Wt=weight)\n",
    "        plot_roc_curve(df_final.query('TrainDataset==0'),MVA+\"_pred\", tpr_threshold=0, ax=axes, color=None, linestyle='--', label=Conf.MVALabels[MVA]+' Testing',cat=cat,Wt=weight)\n",
    "        if len(Conf.OverlayWP)>0:\n",
    "            for color,OverlayWpi in zip(Conf.OverlayWPColors,Conf.OverlayWP):\n",
    "                plot_single_roc_point(df_final.query('TrainDataset==0'), var=OverlayWpi, ax=axes, color=color, marker='o', markersize=6, label=OverlayWpi+\" Test dataset\", cat=cat,Wt=weight)\n",
    "        axes.set_ylabel(\"Background efficiency\")\n",
    "        axes.set_xlabel(\"Signal efficiency\")\n",
    "        axes.set_title(\"DNN\")\n",
    "        axes.text(1.05, 0.5, 'CMS EGamma ID-Trainer',\n",
    "            horizontalalignment='center',\n",
    "            verticalalignment='center',\n",
    "            rotation='vertical',\n",
    "            transform=axes.transAxes)\n",
    "        plt.savefig(Conf.OutputDirName+\"/\"+MVA+\"/\"+MVA+\"_\"+\"DNNROC.pdf\")\n",
    "        plt.savefig(Conf.OutputDirName+\"/\"+MVA+\"/\"+MVA+\"_\"+\"DNNROC.png\")"
   ]
  },
  {
   "cell_type": "code",
   "execution_count": null,
   "id": "thrown-defeat",
   "metadata": {},
   "outputs": [],
   "source": [
    "if 'Genetic' in Conf.MVAs:\n",
    "    prGreen(\"Sorry Genetic algo not implemented yet! Coming Soon\")"
   ]
  },
  {
   "cell_type": "code",
   "execution_count": null,
   "id": "geographic-superior",
   "metadata": {},
   "outputs": [],
   "source": [
    "##PlotFinalROC\n",
    "prGreen(\"Plotting Final ROC\")\n",
    "fig, axes = plt.subplots(1, 1, figsize=(5, 5))\n",
    "if len(Conf.OverlayWP)>0:\n",
    "    for color,OverlayWpi in zip(Conf.OverlayWPColors,Conf.OverlayWP):\n",
    "        plot_single_roc_point(df_final.query('TrainDataset==0'), var=OverlayWpi, ax=axes, color=color, marker='o', markersize=8, label=OverlayWpi+\" Test dataset\", cat=cat,Wt=weight)\n",
    "if len(Conf.MVAs)>0:\n",
    "    for color,MVAi in zip(Conf.MVAColors,Conf.MVAs):\n",
    "        plot_roc_curve(df_final.query('TrainDataset==0'),MVAi+\"_pred\", tpr_threshold=0.7, ax=axes, color=color, linestyle='--', label=Conf.MVALabels[MVAi]+' Testing',cat=cat,Wt=weight)\n",
    "        plot_roc_curve(df_final.query('TrainDataset==1'),MVAi+\"_pred\", tpr_threshold=0.7, ax=axes, color=color, linestyle='-', label=Conf.MVALabels[MVAi]+' Training',cat=cat,Wt=weight)\n",
    "    axes.set_ylabel(\"Background efficiency\")\n",
    "    axes.set_xlabel(\"Signal efficiency\")\n",
    "    axes.set_title(\"Final\")\n",
    "    axes.text(1.05, 0.5, 'CMS EGamma ID-Trainer',\n",
    "        horizontalalignment='center',\n",
    "        verticalalignment='center',\n",
    "        rotation='vertical',\n",
    "        transform=axes.transAxes)\n",
    "plt.savefig(Conf.OutputDirName+\"/ROCFinal.pdf\")\n",
    "plt.savefig(Conf.OutputDirName+\"/ROCFinal.png\")"
   ]
  },
  {
   "cell_type": "code",
   "execution_count": null,
   "id": "related-object",
   "metadata": {},
   "outputs": [],
   "source": [
    "PredMVAs=[]\n",
    "for MVA in Conf.MVAs:\n",
    "    PredMVAs.append(MVA+'_pred')\n",
    "SigEffWPs=Conf.SigEffWPs[:]\n",
    "for i,SigEffWPi in enumerate(SigEffWPs):\n",
    "    SigEffWPs[i]=int(SigEffWPi.replace('%', ''))/100\n",
    "\n",
    "if len(Conf.MVAs)>0:\n",
    "    prGreen(\"Threshold values for requested Signal Efficiencies (Train Dataset)\")\n",
    "    mydf=df_final.query(\"TrainDataset==1 & EleType==1\")[PredMVAs].quantile(SigEffWPs)\n",
    "    mydf.insert(0, \"WPs\", Conf.SigEffWPs, True)\n",
    "    mydf.set_index(\"WPs\",inplace=True)\n",
    "    prGreen(mydf)\n",
    "    mydf.to_html(Conf.OutputDirName+'/Thresholds/'+\"SigEffWPs_Train.html\")\n",
    "    mydf.to_csv(Conf.OutputDirName+'/Thresholds/'+\"SigEffWPs_Train.csv\")\n",
    "    prGreen(\"Threshold values for requested Signal Efficiencies (Test Dataset)\")\n",
    "    mydf2=df_final.query(\"TrainDataset==0 & EleType==1\")[PredMVAs].quantile(SigEffWPs)\n",
    "    mydf2.insert(0, \"WPs\", Conf.SigEffWPs, True)\n",
    "    mydf2.set_index(\"WPs\",inplace=True)\n",
    "    prGreen(mydf2)\n",
    "    mydf2.to_html(Conf.OutputDirName+'/Thresholds/'+\"SigEffWPs_Test.html\")\n",
    "    mydf2.to_csv(Conf.OutputDirName+'/Thresholds/'+\"SigEffWPs_Test.csv\")"
   ]
  },
  {
   "cell_type": "code",
   "execution_count": 5,
   "id": "seasonal-permission",
   "metadata": {},
   "outputs": [
    {
     "ename": "NameError",
     "evalue": "name 'pngtopdf' is not defined",
     "output_type": "error",
     "traceback": [
      "\u001b[0;31m---------------------------------------------------------------------------\u001b[0m",
      "\u001b[0;31mNameError\u001b[0m                                 Traceback (most recent call last)",
      "\u001b[0;32m<ipython-input-5-e9f4f7d15253>\u001b[0m in \u001b[0;36m<module>\u001b[0;34m\u001b[0m\n\u001b[0;32m----> 1\u001b[0;31m \u001b[0mpngtopdf\u001b[0m\u001b[0;34m(\u001b[0m\u001b[0mListPattern\u001b[0m\u001b[0;34m=\u001b[0m\u001b[0;34m[\u001b[0m\u001b[0mConf\u001b[0m\u001b[0;34m.\u001b[0m\u001b[0mOutputDirName\u001b[0m\u001b[0;34m+\u001b[0m\u001b[0;34m'/*/*ROC*png'\u001b[0m\u001b[0;34m,\u001b[0m\u001b[0mConf\u001b[0m\u001b[0;34m.\u001b[0m\u001b[0mOutputDirName\u001b[0m\u001b[0;34m+\u001b[0m\u001b[0;34m'/*ROC*png'\u001b[0m\u001b[0;34m]\u001b[0m\u001b[0;34m,\u001b[0m\u001b[0mSave\u001b[0m\u001b[0;34m=\u001b[0m\u001b[0mConf\u001b[0m\u001b[0;34m.\u001b[0m\u001b[0mOutputDirName\u001b[0m\u001b[0;34m+\u001b[0m\u001b[0;34m\"/mydocROC.pdf\"\u001b[0m\u001b[0;34m)\u001b[0m\u001b[0;34m\u001b[0m\u001b[0;34m\u001b[0m\u001b[0m\n\u001b[0m\u001b[1;32m      2\u001b[0m \u001b[0mpngtopdf\u001b[0m\u001b[0;34m(\u001b[0m\u001b[0mListPattern\u001b[0m\u001b[0;34m=\u001b[0m\u001b[0;34m[\u001b[0m\u001b[0mConf\u001b[0m\u001b[0;34m.\u001b[0m\u001b[0mOutputDirName\u001b[0m\u001b[0;34m+\u001b[0m\u001b[0;34m'/*/*MVA*png'\u001b[0m\u001b[0;34m]\u001b[0m\u001b[0;34m,\u001b[0m\u001b[0mSave\u001b[0m\u001b[0;34m=\u001b[0m\u001b[0mConf\u001b[0m\u001b[0;34m.\u001b[0m\u001b[0mOutputDirName\u001b[0m\u001b[0;34m+\u001b[0m\u001b[0;34m\"/mydocMVA.pdf\"\u001b[0m\u001b[0;34m)\u001b[0m\u001b[0;34m\u001b[0m\u001b[0;34m\u001b[0m\u001b[0m\n\u001b[1;32m      3\u001b[0m \u001b[0;34m\u001b[0m\u001b[0m\n\u001b[1;32m      4\u001b[0m \u001b[0mprGreen\u001b[0m\u001b[0;34m(\u001b[0m\u001b[0;34m\"Done!! Please find the quick look ROC pdf here \"\u001b[0m\u001b[0;34m+\u001b[0m\u001b[0mConf\u001b[0m\u001b[0;34m.\u001b[0m\u001b[0mOutputDirName\u001b[0m\u001b[0;34m+\u001b[0m\u001b[0;34m\"/mydocROC.pdf\"\u001b[0m\u001b[0;34m)\u001b[0m\u001b[0;34m\u001b[0m\u001b[0;34m\u001b[0m\u001b[0m\n\u001b[1;32m      5\u001b[0m \u001b[0mprGreen\u001b[0m\u001b[0;34m(\u001b[0m\u001b[0;34m\"Done!! Please find the quick look MVA pdf here \"\u001b[0m\u001b[0;34m+\u001b[0m\u001b[0mConf\u001b[0m\u001b[0;34m.\u001b[0m\u001b[0mOutputDirName\u001b[0m\u001b[0;34m+\u001b[0m\u001b[0;34m\"/mydocMVA.pdf\"\u001b[0m\u001b[0;34m)\u001b[0m\u001b[0;34m\u001b[0m\u001b[0;34m\u001b[0m\u001b[0m\n",
      "\u001b[0;31mNameError\u001b[0m: name 'pngtopdf' is not defined"
     ]
    }
   ],
   "source": [
    "pngtopdf(ListPattern=[Conf.OutputDirName+'/*/*ROC*png',Conf.OutputDirName+'/*ROC*png'],Save=Conf.OutputDirName+\"/mydocROC.pdf\")\n",
    "pngtopdf(ListPattern=[Conf.OutputDirName+'/*/*MVA*png'],Save=Conf.OutputDirName+\"/mydocMVA.pdf\")\n",
    "\n",
    "prGreen(\"Done!! Please find the quick look ROC pdf here \"+Conf.OutputDirName+\"/mydocROC.pdf\")\n",
    "prGreen(\"Done!! Please find the quick look MVA pdf here \"+Conf.OutputDirName+\"/mydocMVA.pdf\")\n",
    "prGreen(\"Individual plots and saved model files can be found in directory: \"+Conf.OutputDirName+'/')"
   ]
  },
  {
   "cell_type": "code",
   "execution_count": null,
   "id": "revolutionary-lying",
   "metadata": {},
   "outputs": [],
   "source": [
    "if hasattr(Conf, 'SaveDataFrameCSV'): \n",
    "    if Conf.SaveDataFrameCSV:\n",
    "        prGreen(\"Saving DataFrame : Can take a lot of time\")\n",
    "        os.system(\"mkdir -p \" + Conf.OutputDirName+\"/DataFrame\")    \n",
    "        df_final.to_csv(Conf.OutputDirName+'/DataFrame/df_final.csv')"
   ]
  },
  {
   "cell_type": "code",
   "execution_count": 4,
   "id": "animal-providence",
   "metadata": {},
   "outputs": [],
   "source": [
    "if hasattr(Conf, 'SaveDataFrameCSV'): \n",
    "    if Conf.SaveDataFrameCSV:\n",
    "        prGreen(\"Saving DataFrame : Can take a lot of time\")\n",
    "        os.system(\"mkdir -p \" + Conf.OutputDirName+\"/DataFrame\")    \n",
    "        df_final.to_csv(Conf.OutputDirName+'/DataFrame/df_final.csv')"
   ]
  },
  {
   "cell_type": "code",
   "execution_count": null,
   "id": "567ca7b1",
   "metadata": {},
   "outputs": [],
   "source": []
  }
 ],
 "metadata": {
  "kernelspec": {
   "display_name": "Python 3",
   "language": "python",
   "name": "python3"
  },
  "language_info": {
   "codemirror_mode": {
    "name": "ipython",
    "version": 3
   },
   "file_extension": ".py",
   "mimetype": "text/x-python",
   "name": "python",
   "nbconvert_exporter": "python",
   "pygments_lexer": "ipython3",
   "version": "3.6.13"
  }
 },
 "nbformat": 4,
 "nbformat_minor": 5
}
