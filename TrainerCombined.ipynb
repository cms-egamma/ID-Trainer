{
 "cells": [
  {
   "cell_type": "code",
   "execution_count": 1,
   "id": "4c5fc252",
   "metadata": {},
   "outputs": [
    {
     "name": "stderr",
     "output_type": "stream",
     "text": [
      "/home/akapoor/miniconda3/envs/forEGammaSFs/lib/python3.6/site-packages/tensorflow/python/framework/dtypes.py:516: FutureWarning: Passing (type, 1) or '1type' as a synonym of type is deprecated; in a future version of numpy, it will be understood as (type, (1,)) / '(1,)type'.\n",
      "  _np_qint8 = np.dtype([(\"qint8\", np.int8, 1)])\n",
      "/home/akapoor/miniconda3/envs/forEGammaSFs/lib/python3.6/site-packages/tensorflow/python/framework/dtypes.py:517: FutureWarning: Passing (type, 1) or '1type' as a synonym of type is deprecated; in a future version of numpy, it will be understood as (type, (1,)) / '(1,)type'.\n",
      "  _np_quint8 = np.dtype([(\"quint8\", np.uint8, 1)])\n",
      "/home/akapoor/miniconda3/envs/forEGammaSFs/lib/python3.6/site-packages/tensorflow/python/framework/dtypes.py:518: FutureWarning: Passing (type, 1) or '1type' as a synonym of type is deprecated; in a future version of numpy, it will be understood as (type, (1,)) / '(1,)type'.\n",
      "  _np_qint16 = np.dtype([(\"qint16\", np.int16, 1)])\n",
      "/home/akapoor/miniconda3/envs/forEGammaSFs/lib/python3.6/site-packages/tensorflow/python/framework/dtypes.py:519: FutureWarning: Passing (type, 1) or '1type' as a synonym of type is deprecated; in a future version of numpy, it will be understood as (type, (1,)) / '(1,)type'.\n",
      "  _np_quint16 = np.dtype([(\"quint16\", np.uint16, 1)])\n",
      "/home/akapoor/miniconda3/envs/forEGammaSFs/lib/python3.6/site-packages/tensorflow/python/framework/dtypes.py:520: FutureWarning: Passing (type, 1) or '1type' as a synonym of type is deprecated; in a future version of numpy, it will be understood as (type, (1,)) / '(1,)type'.\n",
      "  _np_qint32 = np.dtype([(\"qint32\", np.int32, 1)])\n",
      "/home/akapoor/miniconda3/envs/forEGammaSFs/lib/python3.6/site-packages/tensorflow/python/framework/dtypes.py:525: FutureWarning: Passing (type, 1) or '1type' as a synonym of type is deprecated; in a future version of numpy, it will be understood as (type, (1,)) / '(1,)type'.\n",
      "  np_resource = np.dtype([(\"resource\", np.ubyte, 1)])\n"
     ]
    },
    {
     "name": "stdout",
     "output_type": "stream",
     "text": [
      "{'IPKernelApp': {'connection_file': '/home/akapoor/.local/share/jupyter/runtime/kernel-6b73030e-19e6-48c8-9688-8ff476c0fc98.json'}}\n",
      "In IPython\n",
      "WARNING:tensorflow:From /home/akapoor/miniconda3/envs/forEGammaSFs/lib/python3.6/site-packages/tensorflow/python/ops/init_ops.py:1288: calling VarianceScaling.__init__ (from tensorflow.python.ops.init_ops) with dtype is deprecated and will be removed in a future version.\n",
      "Instructions for updating:\n",
      "Call initializer instance with the dtype argument instead of passing it to the constructor\n"
     ]
    },
    {
     "name": "stderr",
     "output_type": "stream",
     "text": [
      "/home/akapoor/miniconda3/envs/forEGammaSFs/lib/python3.6/site-packages/tensorboard/compat/tensorflow_stub/dtypes.py:541: FutureWarning: Passing (type, 1) or '1type' as a synonym of type is deprecated; in a future version of numpy, it will be understood as (type, (1,)) / '(1,)type'.\n",
      "  _np_qint8 = np.dtype([(\"qint8\", np.int8, 1)])\n",
      "/home/akapoor/miniconda3/envs/forEGammaSFs/lib/python3.6/site-packages/tensorboard/compat/tensorflow_stub/dtypes.py:542: FutureWarning: Passing (type, 1) or '1type' as a synonym of type is deprecated; in a future version of numpy, it will be understood as (type, (1,)) / '(1,)type'.\n",
      "  _np_quint8 = np.dtype([(\"quint8\", np.uint8, 1)])\n",
      "/home/akapoor/miniconda3/envs/forEGammaSFs/lib/python3.6/site-packages/tensorboard/compat/tensorflow_stub/dtypes.py:543: FutureWarning: Passing (type, 1) or '1type' as a synonym of type is deprecated; in a future version of numpy, it will be understood as (type, (1,)) / '(1,)type'.\n",
      "  _np_qint16 = np.dtype([(\"qint16\", np.int16, 1)])\n",
      "/home/akapoor/miniconda3/envs/forEGammaSFs/lib/python3.6/site-packages/tensorboard/compat/tensorflow_stub/dtypes.py:544: FutureWarning: Passing (type, 1) or '1type' as a synonym of type is deprecated; in a future version of numpy, it will be understood as (type, (1,)) / '(1,)type'.\n",
      "  _np_quint16 = np.dtype([(\"quint16\", np.uint16, 1)])\n",
      "/home/akapoor/miniconda3/envs/forEGammaSFs/lib/python3.6/site-packages/tensorboard/compat/tensorflow_stub/dtypes.py:545: FutureWarning: Passing (type, 1) or '1type' as a synonym of type is deprecated; in a future version of numpy, it will be understood as (type, (1,)) / '(1,)type'.\n",
      "  _np_qint32 = np.dtype([(\"qint32\", np.int32, 1)])\n",
      "/home/akapoor/miniconda3/envs/forEGammaSFs/lib/python3.6/site-packages/tensorboard/compat/tensorflow_stub/dtypes.py:550: FutureWarning: Passing (type, 1) or '1type' as a synonym of type is deprecated; in a future version of numpy, it will be understood as (type, (1,)) / '(1,)type'.\n",
      "  np_resource = np.dtype([(\"resource\", np.ubyte, 1)])\n"
     ]
    }
   ],
   "source": [
    "import sys\n",
    "import tensorflow as tf\n",
    "import random\n",
    "import numpy as np\n",
    "tf.reset_default_graph()\n",
    "\n",
    "def in_ipynb():\n",
    "    try:\n",
    "        cfg = get_ipython().config\n",
    "        print(cfg)\n",
    "        if 'jupyter' in cfg['IPKernelApp']['connection_file']:\n",
    "            return True\n",
    "        else:\n",
    "            return False\n",
    "    except NameError:\n",
    "        return False\n",
    "\n",
    "if in_ipynb():\n",
    "    print(\"In IPython\")\n",
    "    exec(\"import Tools.NanoAODConfig as Conf\")\n",
    "    TrainConfig=\"Tools/NanoAODConfig\"\n",
    "else:\n",
    "    TrainConfig=sys.argv[1]\n",
    "    print(\"Importing settings from \"+ TrainConfig.replace(\"/\", \".\"))\n",
    "    #exec(\"from \"+TrainConfig+\" import *\")\n",
    "    importConfig=TrainConfig.replace(\"/\", \".\")\n",
    "    exec(\"import \"+importConfig+\" as Conf\")"
   ]
  },
  {
   "cell_type": "code",
   "execution_count": 2,
   "id": "41baf795",
   "metadata": {},
   "outputs": [],
   "source": [
    "if not hasattr(Conf, 'MVAlogplot'): Conf.MVAlogplot=False\n",
    "if not hasattr(Conf, 'Multicore'): Conf.Multicore=False\n",
    "if not hasattr(Conf, 'RandomState'): Conf.RandomState=42"
   ]
  },
  {
   "cell_type": "code",
   "execution_count": 3,
   "id": "02949d49",
   "metadata": {},
   "outputs": [],
   "source": [
    "\n",
    "tf.compat.v1.random.set_random_seed(Conf.RandomState)\n",
    "random.seed(Conf.RandomState)\n",
    "np.random.seed(Conf.RandomState)"
   ]
  },
  {
   "cell_type": "code",
   "execution_count": 4,
   "id": "64fcf590",
   "metadata": {},
   "outputs": [],
   "source": [
    "import os\n",
    "os.system(\"\")\n",
    "try:\n",
    "  import uproot3 as uproot\n",
    "except ImportError:\n",
    "  import uproot"
   ]
  },
  {
   "cell_type": "code",
   "execution_count": 5,
   "id": "ec33271e",
   "metadata": {},
   "outputs": [
    {
     "name": "stdout",
     "output_type": "stream",
     "text": [
      "Welcome to JupyROOT 6.24/00\n"
     ]
    }
   ],
   "source": [
    "import glob\n",
    "import pandas as pd\n",
    "import numpy as np\n",
    "import ROOT\n",
    "import matplotlib.pyplot as plt\n",
    "import json\n",
    "\n",
    "from tensorflow.keras.models import Sequential\n",
    "from tensorflow.keras.layers import Dense, Activation\n",
    "from tensorflow.keras.optimizers import Adam\n",
    "from tensorflow.keras.layers import Dropout"
   ]
  },
  {
   "cell_type": "code",
   "execution_count": 6,
   "id": "061bc3d8",
   "metadata": {},
   "outputs": [],
   "source": [
    "from Tools.PlotTools import *\n",
    "import Tools.ptetaRwt as ptetaRwt"
   ]
  },
  {
   "cell_type": "code",
   "execution_count": 7,
   "id": "0637e8ad",
   "metadata": {},
   "outputs": [
    {
     "name": "stdout",
     "output_type": "stream",
     "text": [
      "\u001b[92m Making output directory\u001b[00m\n"
     ]
    },
    {
     "data": {
      "text/plain": [
       "0"
      ]
     },
     "execution_count": 7,
     "metadata": {},
     "output_type": "execute_result"
    }
   ],
   "source": [
    "\n",
    "if Conf.Debug==True:\n",
    "    prGreen(\"Running in debug mode : Only every 10th event will be used\")\n",
    "    \n",
    "if len(Conf.MVAs)>0:\n",
    "    for MVAd in Conf.MVAs:\n",
    "        os.system(\"mkdir -p \" + Conf.OutputDirName+\"/\"+MVAd)\n",
    "prGreen(\"Making output directory\")\n",
    "os.system(\"mkdir -p \" + Conf.OutputDirName)\n",
    "os.system(\"mkdir -p \" + Conf.OutputDirName+\"/CodeANDConfig\")\n",
    "os.system(\"mkdir -p \" + Conf.OutputDirName+\"/Thresholds\")\n",
    "os.system(\"cp \"+TrainConfig+\".py ./\"+ Conf.OutputDirName+\"/CodeANDConfig/\")\n",
    "os.system(\"cp Trainer.py ./\"+ Conf.OutputDirName+\"/CodeANDConfig/\")    "
   ]
  },
  {
   "cell_type": "code",
   "execution_count": 8,
   "id": "ac6be349",
   "metadata": {},
   "outputs": [],
   "source": [
    "cat='EleType'\n",
    "weight=\"NewWt\"\n",
    "label=[\"Background\",\"Signal\"]"
   ]
  },
  {
   "cell_type": "code",
   "execution_count": 9,
   "id": "aeeaedaa",
   "metadata": {},
   "outputs": [
    {
     "name": "stdout",
     "output_type": "stream",
     "text": [
      "\u001b[92m Making data frames\u001b[00m\n"
     ]
    }
   ],
   "source": [
    "#Works in uproot3\n",
    "prGreen(\"Making data frames\")\n",
    "Sigdf=pd.DataFrame()\n",
    "Bkgdf=pd.DataFrame()\n",
    "\n",
    "processes=[]\n",
    "\n",
    "for SigFile,SigXsecWt,SigCut in zip(Conf.SigFiles,Conf.SigXsecWts,Conf.SigCuts):\n",
    "    processes.append({'path':SigFile,'xsecwt': SigXsecWt, 'selection':SigCut, \n",
    "                      'EleType':1, 'CommonSelection':Conf.CommonCut,'sample':'Signal'})\n",
    "for BkgFile,BkgXsecWt,BkgCut in zip(Conf.BkgFiles,Conf.BkgXsecWts,Conf.BkgCuts):\n",
    "    processes.append({'path':BkgFile,'xsecwt': BkgXsecWt, 'selection':BkgCut, \n",
    "                      'EleType':0, 'CommonSelection':Conf.CommonCut,'sample':'Background'})"
   ]
  },
  {
   "cell_type": "code",
   "execution_count": 10,
   "id": "c1985c9e",
   "metadata": {},
   "outputs": [],
   "source": [
    "import Tools.readData as readData\n",
    "import sys\n",
    "import os"
   ]
  },
  {
   "cell_type": "code",
   "execution_count": 11,
   "id": "622843b0",
   "metadata": {},
   "outputs": [],
   "source": [
    "import pandas as pd\n",
    "if Conf.loadfromsaved:\n",
    "    df_final=pd.read_parquet(Conf.OutputDirName+'/df.parquet.gzip')\n",
    "else:\n",
    "    df_final=readData.daskframe_from_rootfiles(processes,Conf.Tree,branches=Conf.branches,flatten=Conf.flatten,debug=Conf.Debug)\n",
    "    if hasattr(Conf, 'SaveDataFrameCSV'): \n",
    "        if Conf.SaveDataFrameCSV:\n",
    "            prGreen(\"Saving DataFrame : It can take sometime\")\n",
    "            df_final.to_parquet(Conf.OutputDirName+'/df.parquet.gzip',compression='gzip')"
   ]
  },
  {
   "cell_type": "code",
   "execution_count": null,
   "id": "d71297f5",
   "metadata": {},
   "outputs": [],
   "source": []
  },
  {
   "cell_type": "code",
   "execution_count": 12,
   "id": "066c8c60",
   "metadata": {},
   "outputs": [],
   "source": [
    "#df_final.head()\n",
    "Conf.modfiydf(df_final)\n",
    "#Conf.modfiydf(Bkgdf)"
   ]
  },
  {
   "cell_type": "code",
   "execution_count": 13,
   "id": "1752de65",
   "metadata": {},
   "outputs": [],
   "source": [
    "#SigIndices=df_final.query(\"sample=='Signal'\").index.values.tolist()\n",
    "#BkgIndices=df_final.query(\"sample=='Background'\").index.values.tolist()\n",
    "\n",
    "index = df_final.index\n",
    "Sigcondition = df_final[\"sample\"] == \"Signal\"\n",
    "Bkgcondition = df_final[\"sample\"] == \"Background\"\n",
    "\n",
    "SigIndices = index[Sigcondition].values.tolist()\n",
    "BkgIndices = index[Bkgcondition].values.tolist()\n",
    "\n",
    "from sklearn.model_selection import train_test_split\n",
    "SigTrainIndices, SigTestIndices = train_test_split(SigIndices, test_size=Conf.testsize, random_state=Conf.RandomState, shuffle=True)\n",
    "BkgTrainIndices, BkgTestIndices = train_test_split(BkgIndices, test_size=Conf.testsize, random_state=Conf.RandomState, shuffle=True)"
   ]
  },
  {
   "cell_type": "code",
   "execution_count": 14,
   "id": "30119cbc",
   "metadata": {},
   "outputs": [],
   "source": [
    "TrainIndices=SigTrainIndices+BkgTrainIndices\n",
    "TestIndices=SigTestIndices+BkgTestIndices"
   ]
  },
  {
   "cell_type": "code",
   "execution_count": 15,
   "id": "1662165f",
   "metadata": {},
   "outputs": [],
   "source": [
    "df_final.loc[TrainIndices,'Dataset'] = \"Train\"\n",
    "df_final.loc[TestIndices,'Dataset'] = \"Test\"\n",
    "\n",
    "df_final.loc[TrainIndices,'TrainDataset'] = 1\n",
    "df_final.loc[TestIndices,'TrainDataset'] = 0"
   ]
  },
  {
   "cell_type": "code",
   "execution_count": 16,
   "id": "98ad2a3b",
   "metadata": {},
   "outputs": [
    {
     "data": {
      "image/png": "[encoded data removed]",
      "text/plain": [
       "<Figure size 720x360 with 1 Axes>"
      ]
     },
     "metadata": {
      "needs_background": "light"
     },
     "output_type": "display_data"
    }
   ],
   "source": [
    "import seaborn as sns\n",
    "fig, axes = plt.subplots(1, 1, figsize=(10, 5))\n",
    "kplot=sns.countplot(x=\"sample\", data=df_final, ax=axes,hue='Dataset',palette=['#432371',\"#FAAE7B\"])\n",
    "for p in kplot.patches:\n",
    "    kplot.annotate(format(p.get_height(), '.2f'), (p.get_x() + p.get_width() / 2., p.get_height()), ha = 'center', va = 'center', xytext = (0, 5), textcoords = 'offset points')\n",
    "axes.set_title(\"Number of samples\")\n",
    "#axes.set_yscale(\"log\")\n",
    "plt.savefig(Conf.OutputDirName+\"/TotalStat_TrainANDTest.pdf\")\n",
    "plt.savefig(Conf.OutputDirName+\"/TotalStat_TrainANDTest.png\")"
   ]
  },
  {
   "cell_type": "code",
   "execution_count": 17,
   "id": "e6783b45",
   "metadata": {},
   "outputs": [],
   "source": [
    "def df_pteta_rwt(Mdf,\n",
    "                 label,\n",
    "                 returnOnlyPosWeights=0, \n",
    "                 ptw = [10,30,40,50,200,10000], \n",
    "                 etaw = [-1.5,-1.0,1.0,1.5], \n",
    "                 eta='', \n",
    "                 pt='',\n",
    "                 SumWeightCol=\"wt\",\n",
    "                 NewWeightCol=\"NewWt\",target=1,cand=0):\n",
    "    #Mdf=Ndf.copy()\n",
    "    Mdf[\"rwt\"]=1\n",
    "    Mdf[NewWeightCol]=1\n",
    "    ptwt = [1.0]*len(ptw)\n",
    "    etawt = [1.0]*len(etaw)\n",
    "    \n",
    "    for k in range(len(etaw)):\n",
    "        if k == len(etaw)-1:\n",
    "            continue\n",
    "        for i in range(len(ptw)):\n",
    "            if i == len(ptw)-1:\n",
    "                continue\n",
    "\n",
    "            targetSum = Mdf.loc[(Mdf[pt] <ptw[i+1]) & (Mdf[pt] >ptw[i]) & (Mdf[eta] <etaw[k+1]) & (Mdf[eta] >etaw[k]) &(Mdf[label]==target),SumWeightCol].sum()\n",
    "            candSum = Mdf.loc[(Mdf[pt] <ptw[i+1]) & (Mdf[pt] >ptw[i]) & (Mdf[eta] <etaw[k+1]) & (Mdf[eta] >etaw[k]) &(Mdf[label]==cand),SumWeightCol].sum()\n",
    "\n",
    "            #print('Number of xsec events in signal for pt '+str(ptw[i])+' to '+str(ptw[i+1])+ 'before  weighing = '+str(targetSum))\n",
    "            #print('Number of xsec events in background for pt '+str(ptw[i])+' to '+str(ptw[i+1])+ 'before  weighing = '+str(candSum))\n",
    "\n",
    "            if candSum>0 and targetSum>0:\n",
    "                ptwt[i]=candSum/(targetSum)\n",
    "            else:\n",
    "                ptwt[i]=0\n",
    "            Mdf.loc[(Mdf[pt] <ptw[i+1]) & (Mdf[pt] >ptw[i]) \n",
    "                    & (Mdf[eta] <etaw[k+1]) & (Mdf[eta] >etaw[k]) \n",
    "                    &(Mdf[label]==cand),\"rwt\"] = 1.0\n",
    "            Mdf.loc[(Mdf[pt] <ptw[i+1]) & (Mdf[pt] >ptw[i]) \n",
    "                    & (Mdf[eta] <etaw[k+1]) & (Mdf[eta] >etaw[k]) \n",
    "                    &(Mdf[label]==target),\"rwt\"] = ptwt[i]\n",
    "\n",
    "            Mdf.loc[:,NewWeightCol] = Mdf.loc[:,\"rwt\"]*Mdf.loc[:,SumWeightCol]\n",
    "    \n",
    "    MtargetSum = Mdf.loc[Mdf[label]==target,NewWeightCol].sum()\n",
    "    McandSum = Mdf.loc[Mdf[label]==cand,NewWeightCol].sum()\n",
    "    print('Number of events in signal after  weighing = '+str(MtargetSum))\n",
    "    print('Number of events in background after  weighing = '+str(McandSum))\n",
    "\n",
    "    return Mdf[NewWeightCol]\n",
    "    "
   ]
  },
  {
   "cell_type": "code",
   "execution_count": 18,
   "id": "ab5b6de9",
   "metadata": {},
   "outputs": [
    {
     "name": "stdout",
     "output_type": "stream",
     "text": [
      "In Training:\n",
      "Number of events in signal after  weighing = 432436.99999999994\n",
      "Number of events in background after  weighing = 432437.0\n",
      "In Testing:\n",
      "Number of events in signal after  weighing = 108104.0\n",
      "Number of events in background after  weighing = 108110.0\n"
     ]
    }
   ],
   "source": [
    "df_final[weight]=1\n",
    "\n",
    "print(\"In Training:\")\n",
    "if Conf.Reweighing=='ptetaSig':\n",
    "    df_final.loc[TrainIndices,weight]=df_pteta_rwt(df_final.loc[TrainIndices],cat,ptw=Conf.ptbins,etaw=Conf.etabins,pt=Conf.ptwtvar,eta=Conf.etawtvar,\n",
    "                                                   SumWeightCol='xsecwt',NewWeightCol=weight, target=0,cand=1)\n",
    "if Conf.Reweighing=='ptetaBkg':\n",
    "    df_final.loc[TrainIndices,weight]=df_pteta_rwt(df_final.loc[TrainIndices],cat,ptw=Conf.ptbins,etaw=Conf.etabins,pt=Conf.ptwtvar,eta=Conf.etawtvar,\n",
    "                                                   SumWeightCol='xsecwt',NewWeightCol=weight, target=1,cand=0)\n",
    "print(\"In Testing:\")\n",
    "if Conf.Reweighing=='ptetaSig':\n",
    "    df_final.loc[TestIndices,weight]=df_pteta_rwt(df_final.loc[TestIndices],cat,ptw=Conf.ptbins,etaw=Conf.etabins,pt=Conf.ptwtvar,eta=Conf.etawtvar,\n",
    "                                                  SumWeightCol='xsecwt',NewWeightCol=weight, target=0,cand=1)\n",
    "if Conf.Reweighing=='ptetaBkg':\n",
    "    df_final.loc[TestIndices,weight]=df_pteta_rwt(df_final.loc[TestIndices],cat,ptw=Conf.ptbins,etaw=Conf.etabins,pt=Conf.ptwtvar,eta=Conf.etawtvar,\n",
    "                                                  SumWeightCol='xsecwt',NewWeightCol=weight, target=1,cand=0)"
   ]
  },
  {
   "cell_type": "code",
   "execution_count": 19,
   "id": "1dc5e706",
   "metadata": {},
   "outputs": [],
   "source": [
    "#df_final[\"ele_pt_bin\"]=-9\n",
    "#df_final[\"ele_eta_bin\"]=-9\n",
    "if Conf.Reweighing=='ptetaSig' or Conf.Reweighing=='ptetaBkg':\n",
    "    df_final[\"ele_pt_bin\"] = pd.cut(df_final[Conf.ptwtvar], \n",
    "                                    bins=Conf.ptbins, labels=list(range(len(Conf.ptbins)-1)))\n",
    "    df_final[\"ele_eta_bin\"] = pd.cut(df_final[Conf.etawtvar], \n",
    "                                     bins=Conf.etabins, labels=list(range(len(Conf.etabins)-1)))\n",
    "    "
   ]
  },
  {
   "cell_type": "code",
   "execution_count": 25,
   "id": "022ea373",
   "metadata": {},
   "outputs": [
    {
     "data": {
      "image/png": "[encoded data removed]",
      "text/plain": [
       "<Figure size 720x360 with 2 Axes>"
      ]
     },
     "metadata": {
      "needs_background": "light"
     },
     "output_type": "display_data"
    },
    {
     "data": {
      "image/png": "[encoded data removed]",
      "text/plain": [
       "<Figure size 720x360 with 2 Axes>"
      ]
     },
     "metadata": {
      "needs_background": "light"
     },
     "output_type": "display_data"
    }
   ],
   "source": [
    "import numpy as np\n",
    "import matplotlib.pyplot as plt\n",
    "import seaborn as sns\n",
    "\n",
    "\n",
    "fig, ax = plt.subplots(1, 2, figsize=(10, 5))\n",
    "for i,group_df in df_final[df_final['Dataset'] == \"Train\"].groupby(\"EleType\"):\n",
    "    group_df[Conf.ptwtvar].hist(histtype='step', bins=Conf.ptbins, alpha=0.7,label=label[i], ax=ax[0], density=False, ls='-', weights =group_df[\"xsecwt\"],linewidth=4)\n",
    "    ax[0].set_title(\"$p_T$ before reweighting\")\n",
    "    ax[0].legend()\n",
    "    group_df[Conf.ptwtvar].hist(histtype='step', bins=Conf.ptbins, alpha=0.7,label=label[i], ax=ax[1], density=False, ls='-', weights =group_df[\"NewWt\"],linewidth=4)\n",
    "    ax[1].set_title(\"$p_T$ after reweighting\")\n",
    "    ax[1].legend()\n",
    "fig.savefig(Conf.OutputDirName+\"/pT_rwt.pdf\")\n",
    "\n",
    "fig, ax = plt.subplots(1, 2, figsize=(10, 5))\n",
    "for i,group_df in df_final[df_final['Dataset'] == \"Train\"].groupby(\"EleType\"):\n",
    "    group_df[Conf.etawtvar].hist(histtype='step', \n",
    "                                 bins=Conf.etabins,\n",
    "                                 #[i for i in range(len(Conf.etabins)-1)], \n",
    "                                 alpha=0.7,label=label[i], ax=ax[0], density=False, ls='-', weights =group_df[\"xsecwt\"],linewidth=4)\n",
    "    ax[0].set_title(\"$\\eta$ before reweighting\")\n",
    "    ax[0].legend()\n",
    "    group_df[Conf.etawtvar].hist(histtype='step', \n",
    "                                 bins=Conf.etabins,\n",
    "                                 alpha=0.7,label=label[i], ax=ax[1], density=False, ls='-', weights =group_df[\"NewWt\"],linewidth=4)\n",
    "    ax[1].set_title(\"$\\eta$ after reweighting\")\n",
    "    ax[1].legend()\n",
    "fig.savefig(Conf.OutputDirName+\"/eta_rwt.pdf\")\n",
    "    "
   ]
  },
  {
   "cell_type": "code",
   "execution_count": null,
   "id": "45b8cdeb",
   "metadata": {},
   "outputs": [],
   "source": []
  },
  {
   "cell_type": "code",
   "execution_count": null,
   "id": "37eab0ab",
   "metadata": {},
   "outputs": [],
   "source": []
  },
  {
   "cell_type": "code",
   "execution_count": 26,
   "id": "9d7dd09e",
   "metadata": {},
   "outputs": [
    {
     "data": {
      "text/plain": [
       "'\\nfig, axee = plt.subplots(2, 2, figsize=(30, 10))\\nfor i in [0,1]:\\n    axe=axee[0][i]\\n    sns.histplot(data=df_final.loc[TrainIndices].query(\"EleType==@i\"), x=\"ele_eta_bin\", y=\"ele_pt_bin\",ax=axe,bins=40,\\n                 element=\"bars\", fill=False,cbar=False,\\n                 weights=\"xsecwt\")\\n    axe.set_title(label[i]+\" before reweighting\")\\n    \\n    axe=axee[1][i]\\n    sns.histplot(data=df_final.loc[TrainIndices].query(\"EleType==@i\"), x=\"ele_eta_bin\", y=\"ele_pt_bin\",ax=axe,bins=40,\\n                 element=\"bars\", fill=False,cbar=False,\\n                 weights=\"NewWt\")\\n    axe.set_title(label[i]+\" after reweighting\")\\n\\nfig.savefig(Conf.OutputDirName+\"/eta_pt_rwt.pdf\")\\n'"
      ]
     },
     "execution_count": 26,
     "metadata": {},
     "output_type": "execute_result"
    }
   ],
   "source": [
    "'''\n",
    "fig, axee = plt.subplots(2, 2, figsize=(30, 10))\n",
    "for i in [0,1]:\n",
    "    axe=axee[0][i]\n",
    "    sns.histplot(data=df_final.loc[TrainIndices].query(\"EleType==@i\"), x=\"ele_eta_bin\", y=\"ele_pt_bin\",ax=axe,bins=40,\n",
    "                 element=\"bars\", fill=False,cbar=False,\n",
    "                 weights=\"xsecwt\")\n",
    "    axe.set_title(label[i]+\" before reweighting\")\n",
    "    \n",
    "    axe=axee[1][i]\n",
    "    sns.histplot(data=df_final.loc[TrainIndices].query(\"EleType==@i\"), x=\"ele_eta_bin\", y=\"ele_pt_bin\",ax=axe,bins=40,\n",
    "                 element=\"bars\", fill=False,cbar=False,\n",
    "                 weights=\"NewWt\")\n",
    "    axe.set_title(label[i]+\" after reweighting\")\n",
    "\n",
    "fig.savefig(Conf.OutputDirName+\"/eta_pt_rwt.pdf\")\n",
    "'''"
   ]
  },
  {
   "cell_type": "code",
   "execution_count": null,
   "id": "9f1c0583",
   "metadata": {},
   "outputs": [],
   "source": []
  },
  {
   "cell_type": "code",
   "execution_count": 27,
   "id": "97881e04",
   "metadata": {},
   "outputs": [],
   "source": [
    "def PrepDataset(df_final,TrainIndices,TestIndices,features,cat,weight):\n",
    "    X_train = df_final.loc[TrainIndices,features]\n",
    "    Y_train = df_final.loc[TrainIndices,cat]\n",
    "    Wt_train = df_final.loc[TrainIndices,weight]\n",
    "    \n",
    "    X_test = df_final.loc[TestIndices,features]\n",
    "    Y_test = df_final.loc[TestIndices,cat]\n",
    "    Wt_test = df_final.loc[TestIndices,weight]\n",
    "    return np.asarray(X_train), np.asarray(Y_train), np.asarray(Wt_train), np.asarray(X_test), np.asarray(Y_test), np.asarray(Wt_test)"
   ]
  },
  {
   "cell_type": "code",
   "execution_count": 28,
   "id": "c1829617",
   "metadata": {},
   "outputs": [],
   "source": [
    "import pickle\n",
    "import multiprocessing"
   ]
  },
  {
   "cell_type": "code",
   "execution_count": null,
   "id": "5bd28f14",
   "metadata": {},
   "outputs": [],
   "source": [
    "for MVA in Conf.MVAs:\n",
    "    \n",
    "    if 'XGB' in MVA:\n",
    "        MakeFeaturePlots(df_final,Conf.features[MVA],Conf.feature_bins[MVA],Set=\"Train\",MVA=MVA,OutputDirName=Conf.OutputDirName)\n",
    "        MakeFeaturePlots(df_final,Conf.features[MVA],Conf.feature_bins[MVA],Set=\"Test\",MVA=MVA,OutputDirName=Conf.OutputDirName)\n",
    "        MakeFeaturePlotsComb(df_final,Conf.features[MVA],Conf.feature_bins[MVA],MVA=MVA,OutputDirName=Conf.OutputDirName)\n",
    "        X_train, Y_train, Wt_train, X_test, Y_test, Wt_test = PrepDataset(df_final,TrainIndices,TestIndices,Conf.features[MVA],cat,weight)\n",
    "        prGreen(MVA+\" Applying \"+Conf.Scaler[MVA])\n",
    "        exec(\"from sklearn.preprocessing import \"+Conf.Scaler[MVA])\n",
    "        exec(\"sc = \"+Conf.Scaler[MVA]+\"()\")\n",
    "        X_train = sc.fit_transform(X_train)\n",
    "        X_test = sc.transform(X_test)\n",
    "        prGreen(MVA+\" Training starting\")\n",
    "        import xgboost as xgb\n",
    "        from sklearn.model_selection import cross_val_score, GridSearchCV\n",
    "        xgb_model = xgb.XGBClassifier(objective=\"binary:logistic\", random_state=Conf.RandomState)\n",
    "        #xgb_model.set_config(verbosity=2)\n",
    "        prGreen(\"Performing XGB grid search\")\n",
    "        if Conf.Multicore:\n",
    "            cv = GridSearchCV(xgb_model, Conf.XGBGridSearch[MVA],\n",
    "                              scoring='neg_log_loss',cv=3,verbose=1,n_jobs=2)#multiprocessing.cpu_count())\n",
    "        else:\n",
    "            cv = GridSearchCV(xgb_model, Conf.XGBGridSearch[MVA],\n",
    "                              scoring='neg_log_loss',cv=3,verbose=1)\n",
    "        search=cv.fit(X_train, Y_train, sample_weight=Wt_train,verbose=1)\n",
    "        pickle.dump(cv, open(Conf.OutputDirName+\"/\"+MVA+\"/\"+MVA+\"_\"+\"modelXGB.pkl\", \"wb\"))\n",
    "        #modelDNN.save(Conf.OutputDirName+\"/\"+MVA+\"_\"+\"modelDNN.h5\")\n",
    "        prGreen(\"Expected neg log loss of XGB model = \"+str((np.round(np.average(search.best_score_),3))*100)+'%')\n",
    "        #prGreen(\"Expected accuracy of XGB model = \"+str((np.average(search.best_score_))*100)+'%')\n",
    "        prGreen(\"XGB Best Parameters\")\n",
    "    \n",
    "        #json.dumps(search.best_params_)\n",
    "        prGreen(str(search.best_params_))\n",
    "    \n",
    "        df_final.loc[TrainIndices,MVA+\"_pred\"]=cv.predict_proba(X_train)[:,1]\n",
    "        df_final.loc[TestIndices,MVA+\"_pred\"]=cv.predict_proba(X_test)[:,1]\n",
    "    \n",
    "        prGreen(\"Plotting output response for XGB\")\n",
    "        fig, axes = plt.subplots(1, 1, figsize=(5, 5))\n",
    "        plot_mva(df_final.query('TrainDataset==1'),MVA+\"_pred\",bins=50,cat=cat,Wt=weight,ax=axes,sample='train',ls='dashed',logscale=Conf.MVAlogplot)\n",
    "        plot_mva(df_final.query('TrainDataset==0'),MVA+\"_pred\",bins=50,cat=cat,Wt=weight,ax=axes,sample='test',ls='dotted',logscale=Conf.MVAlogplot)\n",
    "        plt.savefig(Conf.OutputDirName+\"/\"+MVA+\"/\"+MVA+\"_\"+\"XGBMVA.pdf\")\n",
    "        plt.savefig(Conf.OutputDirName+\"/\"+MVA+\"/\"+MVA+\"_\"+\"XGBMVA.png\")\n",
    "    \n",
    "        prGreen(\"Plotting ROC for XGB\")\n",
    "        fig, axes = plt.subplots(1, 1, figsize=(5, 5))\n",
    "        plot_roc_curve(df_final.query('TrainDataset==1'),MVA+\"_pred\", tpr_threshold=0, ax=axes, color=None, linestyle='-', label=Conf.MVALabels[MVA]+' Training',cat=cat,Wt=weight)\n",
    "        plot_roc_curve(df_final.query('TrainDataset==0'),MVA+\"_pred\", tpr_threshold=0, ax=axes, color=None, linestyle='--', label=Conf.MVALabels[MVA]+' Testing',cat=cat,Wt=weight)\n",
    "        if len(Conf.OverlayWP)>0:\n",
    "            for color,OverlayWpi in zip(Conf.OverlayWPColors,Conf.OverlayWP):\n",
    "                plot_single_roc_point(df_final.query('TrainDataset==0'), var=OverlayWpi, ax=axes, color=color, marker='o', markersize=6, label=OverlayWpi+\" Test dataset\", cat=cat,Wt=weight)\n",
    "        axes.set_ylabel(\"Background efficiency\")\n",
    "        axes.set_xlabel(\"Signal efficiency\")\n",
    "        axes.set_title(\"XGB\")\n",
    "        axes.text(1.05, 0.5, 'CMS EGamma ID-Trainer',\n",
    "            horizontalalignment='center',\n",
    "            verticalalignment='center',\n",
    "            rotation='vertical',\n",
    "            transform=axes.transAxes)\n",
    "        plt.savefig(Conf.OutputDirName+\"/\"+MVA+\"/\"+MVA+\"_\"+\"XGBROC.pdf\")\n",
    "        plt.savefig(Conf.OutputDirName+\"/\"+MVA+\"/\"+MVA+\"_\"+\"XGBROC.png\")"
   ]
  },
  {
   "cell_type": "code",
   "execution_count": null,
   "id": "7de51992",
   "metadata": {},
   "outputs": [],
   "source": [
    "from tensorflow.keras.callbacks import EarlyStopping\n",
    "for MVA in Conf.MVAs:\n",
    "    if 'DNN' in MVA:\n",
    "        MakeFeaturePlots(df_final,Conf.features[MVA],Conf.feature_bins[MVA],Set=\"Train\",MVA=MVA,OutputDirName=Conf.OutputDirName)\n",
    "        MakeFeaturePlots(df_final,Conf.features[MVA],Conf.feature_bins[MVA],Set=\"Test\",MVA=MVA,OutputDirName=Conf.OutputDirName)\n",
    "        MakeFeaturePlotsComb(df_final,Conf.features[MVA],Conf.feature_bins[MVA],MVA=MVA,OutputDirName=Conf.OutputDirName)\n",
    "        X_train, Y_train, Wt_train, X_test, Y_test, Wt_test = PrepDataset(df_final,TrainIndices,TestIndices,Conf.features[MVA],cat,weight)\n",
    "        prGreen(MVA+\" Applying \"+Conf.Scaler[MVA])\n",
    "        exec(\"from sklearn.preprocessing import \"+Conf.Scaler[MVA])\n",
    "        exec(\"sc = \"+Conf.Scaler[MVA]+\"()\")\n",
    "        X_train = sc.fit_transform(X_train)\n",
    "        X_test = sc.transform(X_test)\n",
    "        prGreen(\"DNN fitting running\")\n",
    "        es = EarlyStopping(monitor='val_loss', mode='min', verbose=1, patience=10)\n",
    "        modelDNN=Conf.DNNDict[MVA]['model']\n",
    "        modelDNN.compile(loss='binary_crossentropy', optimizer=Adam(lr=Conf.DNNDict[MVA]['lr']), metrics=['accuracy',])\n",
    "        train_history = modelDNN.fit(X_train,Y_train,epochs=Conf.DNNDict[MVA]['epochs'],batch_size=Conf.DNNDict[MVA]['batchsize'],validation_data=(X_test,Y_test, Wt_test),\n",
    "                                     verbose=1,callbacks=[es], sample_weight=Wt_train)\n",
    "        modelDNN.save(Conf.OutputDirName+\"/\"+MVA+\"/\"+MVA+\"_\"+\"modelDNN.h5\")\n",
    "        df_final.loc[TrainIndices,MVA+\"_pred\"]=modelDNN.predict(X_train)\n",
    "        df_final.loc[TestIndices,MVA+\"_pred\"]=modelDNN.predict(X_test)\n",
    "    \n",
    "        prGreen(\"Plotting output response for DNN\")\n",
    "        fig, axes = plt.subplots(1, 1, figsize=(5, 5))\n",
    "        plot_mva(df_final.query('TrainDataset==1'),MVA+\"_pred\",bins=50,cat=cat,Wt=weight,ax=axes,sample='train',ls='dashed',logscale=Conf.MVAlogplot)\n",
    "        plot_mva(df_final.query('TrainDataset==0'),MVA+\"_pred\",bins=50,cat=cat,Wt=weight,ax=axes,sample='test',ls='dotted',logscale=Conf.MVAlogplot)\n",
    "        plt.savefig(Conf.OutputDirName+\"/\"+MVA+\"/\"+MVA+\"_\"+\"DNNMVA.pdf\")\n",
    "        plt.savefig(Conf.OutputDirName+\"/\"+MVA+\"/\"+MVA+\"_\"+\"DNNMVA.png\")\n",
    "    \n",
    "        prGreen(\"Plotting ROC for DNN\")\n",
    "        fig, axes = plt.subplots(1, 1, figsize=(5, 5))\n",
    "        plot_roc_curve(df_final.query('TrainDataset==1'),MVA+\"_pred\", tpr_threshold=0, ax=axes, color=None, linestyle='-', label=Conf.MVALabels[MVA]+' Training',cat=cat,Wt=weight)\n",
    "        plot_roc_curve(df_final.query('TrainDataset==0'),MVA+\"_pred\", tpr_threshold=0, ax=axes, color=None, linestyle='--', label=Conf.MVALabels[MVA]+' Testing',cat=cat,Wt=weight)\n",
    "        if len(Conf.OverlayWP)>0:\n",
    "            for color,OverlayWpi in zip(Conf.OverlayWPColors,Conf.OverlayWP):\n",
    "                plot_single_roc_point(df_final.query('TrainDataset==0'), var=OverlayWpi, ax=axes, color=color, marker='o', markersize=6, label=OverlayWpi+\" Test dataset\", cat=cat,Wt=weight)\n",
    "        axes.set_ylabel(\"Background efficiency\")\n",
    "        axes.set_xlabel(\"Signal efficiency\")\n",
    "        axes.set_title(\"DNN\")\n",
    "        axes.text(1.05, 0.5, 'CMS EGamma ID-Trainer',\n",
    "            horizontalalignment='center',\n",
    "            verticalalignment='center',\n",
    "            rotation='vertical',\n",
    "            transform=axes.transAxes)\n",
    "        plt.savefig(Conf.OutputDirName+\"/\"+MVA+\"/\"+MVA+\"_\"+\"DNNROC.pdf\")\n",
    "        plt.savefig(Conf.OutputDirName+\"/\"+MVA+\"/\"+MVA+\"_\"+\"DNNROC.png\")"
   ]
  },
  {
   "cell_type": "code",
   "execution_count": null,
   "id": "35c6dd93",
   "metadata": {},
   "outputs": [],
   "source": [
    "if 'Genetic' in Conf.MVAs:\n",
    "    prGreen(\"Sorry Genetic algo not implemented yet! Coming Soon\")"
   ]
  },
  {
   "cell_type": "code",
   "execution_count": null,
   "id": "b8ca3cdb",
   "metadata": {},
   "outputs": [],
   "source": [
    "##PlotFinalROC\n",
    "prGreen(\"Plotting Final ROC\")\n",
    "fig, axes = plt.subplots(1, 1, figsize=(5, 5))\n",
    "if len(Conf.OverlayWP)>0:\n",
    "    for color,OverlayWpi in zip(Conf.OverlayWPColors,Conf.OverlayWP):\n",
    "        plot_single_roc_point(df_final.query('TrainDataset==0'), var=OverlayWpi, ax=axes, color=color, marker='o', markersize=8, label=OverlayWpi+\" Test dataset\", cat=cat,Wt=weight)\n",
    "if len(Conf.MVAs)>0:\n",
    "    for color,MVAi in zip(Conf.MVAColors,Conf.MVAs):\n",
    "        plot_roc_curve(df_final.query('TrainDataset==0'),MVAi+\"_pred\", tpr_threshold=0.7, ax=axes, color=color, linestyle='--', label=Conf.MVALabels[MVAi]+' Testing',cat=cat,Wt=weight)\n",
    "        plot_roc_curve(df_final.query('TrainDataset==1'),MVAi+\"_pred\", tpr_threshold=0.7, ax=axes, color=color, linestyle='-', label=Conf.MVALabels[MVAi]+' Training',cat=cat,Wt=weight)\n",
    "    axes.set_ylabel(\"Background efficiency\")\n",
    "    axes.set_xlabel(\"Signal efficiency\")\n",
    "    axes.set_title(\"Final\")\n",
    "    axes.text(1.05, 0.5, 'CMS EGamma ID-Trainer',\n",
    "        horizontalalignment='center',\n",
    "        verticalalignment='center',\n",
    "        rotation='vertical',\n",
    "        transform=axes.transAxes)\n",
    "plt.savefig(Conf.OutputDirName+\"/ROCFinal.pdf\")\n",
    "plt.savefig(Conf.OutputDirName+\"/ROCFinal.png\")"
   ]
  },
  {
   "cell_type": "code",
   "execution_count": null,
   "id": "4066242e",
   "metadata": {},
   "outputs": [],
   "source": [
    "PredMVAs=[]\n",
    "for MVA in Conf.MVAs:\n",
    "    PredMVAs.append(MVA+'_pred')\n",
    "SigEffWPs=Conf.SigEffWPs[:]\n",
    "for i,SigEffWPi in enumerate(SigEffWPs):\n",
    "    SigEffWPs[i]=int(SigEffWPi.replace('%', ''))/100\n",
    "\n",
    "if len(Conf.MVAs)>0:\n",
    "    prGreen(\"Threshold values for requested Signal Efficiencies (Train Dataset)\")\n",
    "    mydf=df_final.query(\"TrainDataset==1 & EleType==1\")[PredMVAs].quantile(SigEffWPs)\n",
    "    mydf.insert(0, \"WPs\", Conf.SigEffWPs, True)\n",
    "    mydf.set_index(\"WPs\",inplace=True)\n",
    "    prGreen(mydf)\n",
    "    mydf.to_html(Conf.OutputDirName+'/Thresholds/'+\"SigEffWPs_Train.html\")\n",
    "    mydf.to_csv(Conf.OutputDirName+'/Thresholds/'+\"SigEffWPs_Train.csv\")\n",
    "    prGreen(\"Threshold values for requested Signal Efficiencies (Test Dataset)\")\n",
    "    mydf2=df_final.query(\"TrainDataset==0 & EleType==1\")[PredMVAs].quantile(SigEffWPs)\n",
    "    mydf2.insert(0, \"WPs\", Conf.SigEffWPs, True)\n",
    "    mydf2.set_index(\"WPs\",inplace=True)\n",
    "    prGreen(mydf2)\n",
    "    mydf2.to_html(Conf.OutputDirName+'/Thresholds/'+\"SigEffWPs_Test.html\")\n",
    "    mydf2.to_csv(Conf.OutputDirName+'/Thresholds/'+\"SigEffWPs_Test.csv\")"
   ]
  },
  {
   "cell_type": "code",
   "execution_count": null,
   "id": "29a0b12c",
   "metadata": {},
   "outputs": [],
   "source": [
    "pngtopdf(ListPattern=[Conf.OutputDirName+'/*/*ROC*png',Conf.OutputDirName+'/*ROC*png'],Save=Conf.OutputDirName+\"/mydocROC.pdf\")\n",
    "pngtopdf(ListPattern=[Conf.OutputDirName+'/*/*MVA*png'],Save=Conf.OutputDirName+\"/mydocMVA.pdf\")\n",
    "\n",
    "prGreen(\"Done!! Please find the quick look ROC pdf here \"+Conf.OutputDirName+\"/mydocROC.pdf\")\n",
    "prGreen(\"Done!! Please find the quick look MVA pdf here \"+Conf.OutputDirName+\"/mydocMVA.pdf\")\n",
    "prGreen(\"Individual plots and saved model files can be found in directory: \"+Conf.OutputDirName+'/')"
   ]
  },
  {
   "cell_type": "code",
   "execution_count": null,
   "id": "56016a2f",
   "metadata": {},
   "outputs": [],
   "source": []
  },
  {
   "cell_type": "code",
   "execution_count": null,
   "id": "4755ccef",
   "metadata": {},
   "outputs": [],
   "source": []
  }
 ],
 "metadata": {
  "kernelspec": {
   "display_name": "Python 3",
   "language": "python",
   "name": "python3"
  },
  "language_info": {
   "codemirror_mode": {
    "name": "ipython",
    "version": 3
   },
   "file_extension": ".py",
   "mimetype": "text/x-python",
   "name": "python",
   "nbconvert_exporter": "python",
   "pygments_lexer": "ipython3",
   "version": "3.6.13"
  }
 },
 "nbformat": 4,
 "nbformat_minor": 5
}
